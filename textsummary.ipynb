{
 "cells": [
  {
   "cell_type": "code",
   "execution_count": 48,
   "metadata": {},
   "outputs": [],
   "source": [
    "text=\"The morning sun came through the trees, lighting up the ground with warm colors. A light wind moved the leaves, making a soft sound. Birds sang to each other, filling the air with happy sounds. For a moment, everything felt peaceful and full of life.\".lower()"
   ]
  },
  {
   "cell_type": "code",
   "execution_count": 49,
   "metadata": {},
   "outputs": [
    {
     "name": "stderr",
     "output_type": "stream",
     "text": [
      "[nltk_data] Downloading package stopwords to\n",
      "[nltk_data]     /Users/demilade.runsewe@aics.espritscholen.nl/nltk_dat\n",
      "[nltk_data]     a...\n",
      "[nltk_data]   Package stopwords is already up-to-date!\n",
      "[nltk_data] Downloading package punkt_tab to\n",
      "[nltk_data]     /Users/demilade.runsewe@aics.espritscholen.nl/nltk_dat\n",
      "[nltk_data]     a...\n",
      "[nltk_data]   Package punkt_tab is already up-to-date!\n"
     ]
    },
    {
     "data": {
      "text/plain": [
       "True"
      ]
     },
     "execution_count": 49,
     "metadata": {},
     "output_type": "execute_result"
    }
   ],
   "source": [
    "import ssl\n",
    "ssl._create_default_https_context = ssl._create_unverified_context\n",
    "import numpy as np\n",
    "import pandas as pd\n",
    "import nltk\n",
    "import re\n",
    "import networkx\n",
    "from gensim.models import Word2Vec\n",
    "from nltk.tokenize import sent_tokenize\n",
    "from nltk.corpus import stopwords\n",
    "nltk.download(\"stopwords\")\n",
    "nltk.download(\"punkt_tab\")"
   ]
  },
  {
   "cell_type": "code",
   "execution_count": 50,
   "metadata": {},
   "outputs": [
    {
     "data": {
      "text/plain": [
       "[['morning', 'sun', 'came', 'trees', 'lighting', 'ground', 'warm', 'colors'],\n",
       " ['light', 'wind', 'moved', 'leaves', 'making', 'soft', 'sound'],\n",
       " ['birds', 'sang', 'filling', 'air', 'happy', 'sounds'],\n",
       " ['moment', 'everything', 'felt', 'peaceful', 'full', 'life']]"
      ]
     },
     "execution_count": 50,
     "metadata": {},
     "output_type": "execute_result"
    }
   ],
   "source": [
    "sentences=[]\n",
    "for i in sent_tokenize(text):\n",
    "    sentences.append(re.sub(r'[^\\w\\s]', \"\", i))\n",
    "\n",
    "eng_stopwords=stopwords.words(\"english\")\n",
    "tokens=[]\n",
    "for i in sentences:\n",
    "    temp_tokens=[]\n",
    "    for j in i.split():\n",
    "        if j not in eng_stopwords:\n",
    "            temp_tokens.append(j)\n",
    "    tokens.append(temp_tokens)\n",
    "\n",
    "tokens\n"
   ]
  },
  {
   "cell_type": "code",
   "execution_count": 51,
   "metadata": {},
   "outputs": [
    {
     "data": {
      "text/plain": [
       "[[0.11086363,\n",
       "  0.7950194,\n",
       "  1.1650302,\n",
       "  -0.63069195,\n",
       "  -0.46615237,\n",
       "  0.88472015,\n",
       "  1.1611514,\n",
       "  -0.19627574],\n",
       " [-0.16642006,\n",
       "  0.98390347,\n",
       "  0.040396538,\n",
       "  -0.22969313,\n",
       "  0.25286183,\n",
       "  0.91496897,\n",
       "  0.034048915],\n",
       " [0.4700388, 0.2658231, -0.6225437, -0.73598844, 0.87956846, 0.6718295],\n",
       " [0.85307235, 0.25993735, 0.84499854, -0.17030433, -0.30837324, 0.0774733]]"
      ]
     },
     "execution_count": 51,
     "metadata": {},
     "output_type": "execute_result"
    }
   ],
   "source": [
    "vectors=Word2Vec(tokens, vector_size=1, min_count=1, epochs=800)\n",
    "vectors\n",
    "vector_values=[]\n",
    "for i in tokens:\n",
    "    temp_vector_values=[]\n",
    "    for j in i:\n",
    "        temp_vector_values.append(vectors.wv[j][0])\n",
    "    vector_values.append(temp_vector_values)\n",
    "vector_values\n",
    "    "
   ]
  },
  {
   "cell_type": "code",
   "execution_count": 52,
   "metadata": {},
   "outputs": [
    {
     "name": "stdout",
     "output_type": "stream",
     "text": [
      "8\n",
      "7\n",
      "6\n",
      "6\n",
      "[array([ 0.11086363,  0.7950194 ,  1.1650302 , -0.63069195, -0.46615237,\n",
      "        0.88472015,  1.1611514 , -0.19627574], dtype=float32), array([-0.16642006,  0.98390347,  0.04039654, -0.22969313,  0.25286183,\n",
      "        0.91496897,  0.03404891,  0.        ], dtype=float32), array([ 0.4700388 ,  0.2658231 , -0.6225437 , -0.73598844,  0.87956846,\n",
      "        0.6718295 ,  0.        ,  0.        ], dtype=float32), array([ 0.85307235,  0.25993735,  0.84499854, -0.17030433, -0.30837324,\n",
      "        0.0774733 ,  0.        ,  0.        ], dtype=float32)]\n"
     ]
    }
   ],
   "source": [
    "max=0\n",
    "for i in tokens:\n",
    "    if len(i)>max:\n",
    "        max=len(i)\n",
    "\n",
    "pad_vectors=[]\n",
    "for i in vector_values:\n",
    "    pad_vectors.append(np.pad(i, (0, max-len(i))))\n",
    "    print(len(i))\n",
    "print(pad_vectors)"
   ]
  }
 ],
 "metadata": {
  "kernelspec": {
   "display_name": "Python 3",
   "language": "python",
   "name": "python3"
  },
  "language_info": {
   "codemirror_mode": {
    "name": "ipython",
    "version": 3
   },
   "file_extension": ".py",
   "mimetype": "text/x-python",
   "name": "python",
   "nbconvert_exporter": "python",
   "pygments_lexer": "ipython3",
   "version": "3.11.4"
  },
  "orig_nbformat": 4
 },
 "nbformat": 4,
 "nbformat_minor": 2
}
