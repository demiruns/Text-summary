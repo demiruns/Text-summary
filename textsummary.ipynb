{
 "cells": [
  {
   "cell_type": "code",
   "execution_count": 69,
   "metadata": {},
   "outputs": [],
   "source": [
    "text=\"In today’s fast-paced world, technology continues to reshape the way we live, work, and communicate. From smartphones to artificial intelligence, modern innovations have made information more accessible and tasks more efficient than ever before. Businesses rely heavily on digital tools to streamline operations and stay competitive, while individuals use apps and platforms to manage daily routines, connect with others, and access entertainment. However, with these advancements come challenges, such as privacy concerns, digital fatigue, and the need for constant adaptation. As technology evolves, society must find a balance between embracing innovation and preserving core human values. Education plays a vital role in equipping people with the skills to navigate an increasingly digital world, while governments and organizations must develop ethical frameworks to guide responsible tech use. Ultimately, the goal is not just progress for progress’s sake, but meaningful development that improves quality of life and ensures a more connected, equitable future.\".lower()"
   ]
  },
  {
   "cell_type": "code",
   "execution_count": 70,
   "metadata": {},
   "outputs": [
    {
     "name": "stderr",
     "output_type": "stream",
     "text": [
      "[nltk_data] Downloading package stopwords to\n",
      "[nltk_data]     /Users/demilade.runsewe@aics.espritscholen.nl/nltk_dat\n",
      "[nltk_data]     a...\n",
      "[nltk_data]   Package stopwords is already up-to-date!\n",
      "[nltk_data] Downloading package punkt_tab to\n",
      "[nltk_data]     /Users/demilade.runsewe@aics.espritscholen.nl/nltk_dat\n",
      "[nltk_data]     a...\n",
      "[nltk_data]   Package punkt_tab is already up-to-date!\n"
     ]
    },
    {
     "data": {
      "text/plain": [
       "True"
      ]
     },
     "execution_count": 70,
     "metadata": {},
     "output_type": "execute_result"
    }
   ],
   "source": [
    "import ssl\n",
    "ssl._create_default_https_context = ssl._create_unverified_context\n",
    "import numpy as np\n",
    "import pandas as pd\n",
    "import nltk\n",
    "import re\n",
    "import networkx\n",
    "from gensim.models import Word2Vec\n",
    "from nltk.tokenize import sent_tokenize\n",
    "from nltk.corpus import stopwords\n",
    "nltk.download(\"stopwords\")\n",
    "nltk.download(\"punkt_tab\")"
   ]
  },
  {
   "cell_type": "code",
   "execution_count": 71,
   "metadata": {},
   "outputs": [
    {
     "data": {
      "text/plain": [
       "[['todays',\n",
       "  'fastpaced',\n",
       "  'world',\n",
       "  'technology',\n",
       "  'continues',\n",
       "  'reshape',\n",
       "  'way',\n",
       "  'live',\n",
       "  'work',\n",
       "  'communicate'],\n",
       " ['smartphones',\n",
       "  'artificial',\n",
       "  'intelligence',\n",
       "  'modern',\n",
       "  'innovations',\n",
       "  'made',\n",
       "  'information',\n",
       "  'accessible',\n",
       "  'tasks',\n",
       "  'efficient',\n",
       "  'ever'],\n",
       " ['businesses',\n",
       "  'rely',\n",
       "  'heavily',\n",
       "  'digital',\n",
       "  'tools',\n",
       "  'streamline',\n",
       "  'operations',\n",
       "  'stay',\n",
       "  'competitive',\n",
       "  'individuals',\n",
       "  'use',\n",
       "  'apps',\n",
       "  'platforms',\n",
       "  'manage',\n",
       "  'daily',\n",
       "  'routines',\n",
       "  'connect',\n",
       "  'others',\n",
       "  'access',\n",
       "  'entertainment'],\n",
       " ['however',\n",
       "  'advancements',\n",
       "  'come',\n",
       "  'challenges',\n",
       "  'privacy',\n",
       "  'concerns',\n",
       "  'digital',\n",
       "  'fatigue',\n",
       "  'need',\n",
       "  'constant',\n",
       "  'adaptation'],\n",
       " ['technology',\n",
       "  'evolves',\n",
       "  'society',\n",
       "  'must',\n",
       "  'find',\n",
       "  'balance',\n",
       "  'embracing',\n",
       "  'innovation',\n",
       "  'preserving',\n",
       "  'core',\n",
       "  'human',\n",
       "  'values'],\n",
       " ['education',\n",
       "  'plays',\n",
       "  'vital',\n",
       "  'role',\n",
       "  'equipping',\n",
       "  'people',\n",
       "  'skills',\n",
       "  'navigate',\n",
       "  'increasingly',\n",
       "  'digital',\n",
       "  'world',\n",
       "  'governments',\n",
       "  'organizations',\n",
       "  'must',\n",
       "  'develop',\n",
       "  'ethical',\n",
       "  'frameworks',\n",
       "  'guide',\n",
       "  'responsible',\n",
       "  'tech',\n",
       "  'use'],\n",
       " ['ultimately',\n",
       "  'goal',\n",
       "  'progress',\n",
       "  'progresss',\n",
       "  'sake',\n",
       "  'meaningful',\n",
       "  'development',\n",
       "  'improves',\n",
       "  'quality',\n",
       "  'life',\n",
       "  'ensures',\n",
       "  'connected',\n",
       "  'equitable',\n",
       "  'future']]"
      ]
     },
     "execution_count": 71,
     "metadata": {},
     "output_type": "execute_result"
    }
   ],
   "source": [
    "sentences=[]\n",
    "for i in sent_tokenize(text):\n",
    "    sentences.append(re.sub(r'[^\\w\\s]', \"\", i))\n",
    "\n",
    "eng_stopwords=stopwords.words(\"english\")\n",
    "tokens=[]\n",
    "for i in sentences:\n",
    "    temp_tokens=[]\n",
    "    for j in i.split():\n",
    "        if j not in eng_stopwords:\n",
    "            temp_tokens.append(j)\n",
    "    tokens.append(temp_tokens)\n",
    "\n",
    "tokens\n"
   ]
  },
  {
   "cell_type": "code",
   "execution_count": 72,
   "metadata": {},
   "outputs": [
    {
     "data": {
      "text/plain": [
       "[[1.5666926,\n",
       "  1.7036945,\n",
       "  1.727567,\n",
       "  1.7745565,\n",
       "  1.4279149,\n",
       "  1.4940829,\n",
       "  1.4761451,\n",
       "  1.5476855,\n",
       "  1.7084826,\n",
       "  1.2786038],\n",
       " [1.4994026,\n",
       "  1.5576824,\n",
       "  1.7351375,\n",
       "  1.5969396,\n",
       "  1.676167,\n",
       "  1.6201276,\n",
       "  1.5424303,\n",
       "  1.7887789,\n",
       "  1.5136096,\n",
       "  1.5420381,\n",
       "  1.6125313],\n",
       " [1.6223316,\n",
       "  1.8379923,\n",
       "  1.5371932,\n",
       "  1.8834816,\n",
       "  1.855405,\n",
       "  1.9752055,\n",
       "  1.703798,\n",
       "  1.7234932,\n",
       "  1.994601,\n",
       "  1.8855922,\n",
       "  2.1288662,\n",
       "  1.7270373,\n",
       "  1.9535772,\n",
       "  2.0327792,\n",
       "  1.7931917,\n",
       "  1.7553974,\n",
       "  1.8322906,\n",
       "  1.9006244,\n",
       "  1.4055244,\n",
       "  1.1771466],\n",
       " [1.8945665,\n",
       "  1.7437484,\n",
       "  1.90956,\n",
       "  1.5705671,\n",
       "  1.7072426,\n",
       "  1.9964999,\n",
       "  1.8834816,\n",
       "  1.8874898,\n",
       "  1.5018106,\n",
       "  1.8443853,\n",
       "  1.7120872],\n",
       " [1.7745565,\n",
       "  1.7324601,\n",
       "  1.6137055,\n",
       "  1.7231774,\n",
       "  1.5544698,\n",
       "  1.6026874,\n",
       "  1.7086241,\n",
       "  1.7748847,\n",
       "  1.866467,\n",
       "  1.7694043,\n",
       "  1.4566532,\n",
       "  1.7304703],\n",
       " [1.728494,\n",
       "  1.5578679,\n",
       "  1.7059627,\n",
       "  1.8723307,\n",
       "  1.8029326,\n",
       "  1.6923308,\n",
       "  1.5656781,\n",
       "  1.7991656,\n",
       "  1.8843896,\n",
       "  1.8834816,\n",
       "  1.727567,\n",
       "  1.7285676,\n",
       "  1.5191994,\n",
       "  1.7231774,\n",
       "  1.7955638,\n",
       "  1.5319453,\n",
       "  1.7293489,\n",
       "  1.8651037,\n",
       "  1.4729843,\n",
       "  1.6466199,\n",
       "  2.1288662],\n",
       " [1.4175837,\n",
       "  1.686821,\n",
       "  2.0119076,\n",
       "  1.7625973,\n",
       "  1.8642074,\n",
       "  1.7373766,\n",
       "  1.6670765,\n",
       "  1.8175715,\n",
       "  1.8984002,\n",
       "  1.72233,\n",
       "  1.8528142,\n",
       "  1.7510477,\n",
       "  1.7738639,\n",
       "  1.454867]]"
      ]
     },
     "execution_count": 72,
     "metadata": {},
     "output_type": "execute_result"
    }
   ],
   "source": [
    "vectors=Word2Vec(tokens, vector_size=1, min_count=1, epochs=800)\n",
    "vectors\n",
    "vector_values=[]\n",
    "for i in tokens:\n",
    "    temp_vector_values=[]\n",
    "    for j in i:\n",
    "        temp_vector_values.append(vectors.wv[j][0])\n",
    "    vector_values.append(temp_vector_values)\n",
    "vector_values\n",
    "    "
   ]
  },
  {
   "cell_type": "code",
   "execution_count": 73,
   "metadata": {},
   "outputs": [
    {
     "name": "stdout",
     "output_type": "stream",
     "text": [
      "10\n",
      "11\n",
      "20\n",
      "11\n",
      "12\n",
      "21\n",
      "14\n",
      "[array([1.5666926, 1.7036945, 1.727567 , 1.7745565, 1.4279149, 1.4940829,\n",
      "       1.4761451, 1.5476855, 1.7084826, 1.2786038, 0.       , 0.       ,\n",
      "       0.       , 0.       , 0.       , 0.       , 0.       , 0.       ,\n",
      "       0.       , 0.       , 0.       ], dtype=float32), array([1.4994026, 1.5576824, 1.7351375, 1.5969396, 1.676167 , 1.6201276,\n",
      "       1.5424303, 1.7887789, 1.5136096, 1.5420381, 1.6125313, 0.       ,\n",
      "       0.       , 0.       , 0.       , 0.       , 0.       , 0.       ,\n",
      "       0.       , 0.       , 0.       ], dtype=float32), array([1.6223316, 1.8379923, 1.5371932, 1.8834816, 1.855405 , 1.9752055,\n",
      "       1.703798 , 1.7234932, 1.994601 , 1.8855922, 2.1288662, 1.7270373,\n",
      "       1.9535772, 2.0327792, 1.7931917, 1.7553974, 1.8322906, 1.9006244,\n",
      "       1.4055244, 1.1771466, 0.       ], dtype=float32), array([1.8945665, 1.7437484, 1.90956  , 1.5705671, 1.7072426, 1.9964999,\n",
      "       1.8834816, 1.8874898, 1.5018106, 1.8443853, 1.7120872, 0.       ,\n",
      "       0.       , 0.       , 0.       , 0.       , 0.       , 0.       ,\n",
      "       0.       , 0.       , 0.       ], dtype=float32), array([1.7745565, 1.7324601, 1.6137055, 1.7231774, 1.5544698, 1.6026874,\n",
      "       1.7086241, 1.7748847, 1.866467 , 1.7694043, 1.4566532, 1.7304703,\n",
      "       0.       , 0.       , 0.       , 0.       , 0.       , 0.       ,\n",
      "       0.       , 0.       , 0.       ], dtype=float32), array([1.728494 , 1.5578679, 1.7059627, 1.8723307, 1.8029326, 1.6923308,\n",
      "       1.5656781, 1.7991656, 1.8843896, 1.8834816, 1.727567 , 1.7285676,\n",
      "       1.5191994, 1.7231774, 1.7955638, 1.5319453, 1.7293489, 1.8651037,\n",
      "       1.4729843, 1.6466199, 2.1288662], dtype=float32), array([1.4175837, 1.686821 , 2.0119076, 1.7625973, 1.8642074, 1.7373766,\n",
      "       1.6670765, 1.8175715, 1.8984002, 1.72233  , 1.8528142, 1.7510477,\n",
      "       1.7738639, 1.454867 , 0.       , 0.       , 0.       , 0.       ,\n",
      "       0.       , 0.       , 0.       ], dtype=float32)]\n"
     ]
    }
   ],
   "source": [
    "max=0\n",
    "for i in tokens:\n",
    "    if len(i)>max:\n",
    "        max=len(i)\n",
    "\n",
    "pad_vectors=[]\n",
    "for i in vector_values:\n",
    "    pad_vectors.append(np.pad(i, (0, max-len(i))))\n",
    "    print(len(i))\n",
    "print(pad_vectors)"
   ]
  },
  {
   "cell_type": "code",
   "execution_count": 74,
   "metadata": {},
   "outputs": [
    {
     "name": "stdout",
     "output_type": "stream",
     "text": [
      "[[1.         0.94779417 0.70419184 0.94646071 0.91825922 0.69102784\n",
      "  0.84675928]\n",
      " [0.94779417 1.         0.75277964 0.99643552 0.95075898 0.72668664\n",
      "  0.89575467]\n",
      " [0.70419184 0.75277964 1.         0.7496191  0.78176836 0.95712967\n",
      "  0.85547246]\n",
      " [0.94646071 0.99643552 0.7496191  1.         0.94931137 0.72340826\n",
      "  0.8899083 ]\n",
      " [0.91825922 0.95075898 0.78176836 0.94931137 1.         0.75845418\n",
      "  0.93019235]\n",
      " [0.69102784 0.72668664 0.95712967 0.72340826 0.75845418 1.\n",
      "  0.80959206]\n",
      " [0.84675928 0.89575467 0.85547246 0.8899083  0.93019235 0.80959206\n",
      "  0.99999999]]\n"
     ]
    }
   ],
   "source": [
    "from scipy import spatial\n",
    "\n",
    "similarity_metrics=np.zeros([len(tokens), len(tokens)])\n",
    "for index, row in enumerate(pad_vectors):\n",
    "    for ind, column in enumerate(pad_vectors):\n",
    "        similarity_metrics[index][ind] = 1-spatial.distance.cosine(row, column)\n",
    "\n",
    "print(similarity_metrics)"
   ]
  },
  {
   "cell_type": "code",
   "execution_count": 75,
   "metadata": {},
   "outputs": [
    {
     "name": "stdout",
     "output_type": "stream",
     "text": [
      "as technology evolves, society must find a balance between embracing innovation and preserving core human values.\n",
      "from smartphones to artificial intelligence, modern innovations have made information more accessible and tasks more efficient than ever before.\n",
      "however, with these advancements come challenges, such as privacy concerns, digital fatigue, and the need for constant adaptation.\n",
      "ultimately, the goal is not just progress for progress’s sake, but meaningful development that improves quality of life and ensures a more connected, equitable future.\n"
     ]
    }
   ],
   "source": [
    "network_sim_metrics=networkx.from_numpy_array(similarity_metrics)\n",
    "sentence_ranking=networkx.pagerank(network_sim_metrics)\n",
    "\n",
    "split_sentences=sent_tokenize(text)\n",
    "dictionary={}\n",
    "for i in range(len(split_sentences)):\n",
    "    dictionary[split_sentences[i]] = sentence_ranking[i]\n",
    "\n",
    "dictionary=dict(sorted(dictionary.items(), reverse=True, key=lambda x:x[1])[0:round(len(tokens)/2)])\n",
    "for i in dictionary.keys():\n",
    "    print(i)"
   ]
  },
  {
   "cell_type": "code",
   "execution_count": 76,
   "metadata": {},
   "outputs": [
    {
     "data": {
      "text/plain": [
       "'in today’s fast-paced world, technology continues to reshape the way we live, work, and communicate. from smartphones to artificial intelligence, modern innovations have made information more accessible and tasks more efficient than ever before. businesses rely heavily on digital tools to streamline operations and stay competitive, while individuals use apps and platforms to manage daily routines, connect with others, and access entertainment. however, with these advancements come challenges, such as privacy concerns, digital fatigue, and the need for constant adaptation. as technology evolves, society must find a balance between embracing innovation and preserving core human values. education plays a vital role in equipping people with the skills to navigate an increasingly digital world, while governments and organizations must develop ethical frameworks to guide responsible tech use. ultimately, the goal is not just progress for progress’s sake, but meaningful development that improves quality of life and ensures a more connected, equitable future.'"
      ]
     },
     "execution_count": 76,
     "metadata": {},
     "output_type": "execute_result"
    }
   ],
   "source": [
    "text"
   ]
  }
 ],
 "metadata": {
  "kernelspec": {
   "display_name": "Python 3",
   "language": "python",
   "name": "python3"
  },
  "language_info": {
   "codemirror_mode": {
    "name": "ipython",
    "version": 3
   },
   "file_extension": ".py",
   "mimetype": "text/x-python",
   "name": "python",
   "nbconvert_exporter": "python",
   "pygments_lexer": "ipython3",
   "version": "3.11.4"
  },
  "orig_nbformat": 4
 },
 "nbformat": 4,
 "nbformat_minor": 2
}
